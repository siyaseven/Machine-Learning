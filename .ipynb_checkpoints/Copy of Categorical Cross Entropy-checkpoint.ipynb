{
 "cells": [
  {
   "cell_type": "markdown",
   "metadata": {
    "colab_type": "text",
    "id": "OpPhNErAUooE"
   },
   "source": [
    "## Categorical cross entropy\n",
    "\n",
    "### Practical Introduction to Deep Learning - AIMS 2019\n",
    "\n",
    "***Dr. Emmanuel Dufourq*** www.emmanueldufourq.com\n",
    "\n",
    "***African Institute for Mathematical Sciences***\n",
    "\n",
    "***Stellenbosch University***\n",
    "\n",
    "***2019***\n"
   ]
  },
  {
   "cell_type": "markdown",
   "metadata": {
    "colab_type": "text",
    "id": "Odaw35SnUk6H"
   },
   "source": [
    "## Various Python imports"
   ]
  },
  {
   "cell_type": "code",
   "execution_count": 1,
   "metadata": {
    "colab": {
     "base_uri": "https://localhost:8080/",
     "height": 98
    },
    "colab_type": "code",
    "executionInfo": {
     "elapsed": 4573,
     "status": "ok",
     "timestamp": 1575741707146,
     "user": {
      "displayName": "Siyabonga Mthiyane",
      "photoUrl": "https://lh3.googleusercontent.com/a-/AAuE7mA9NDszfcyeI69O2XD_B3CJLPyby3AQkhN12QYDtw=s64",
      "userId": "11590169425540372627"
     },
     "user_tz": -120
    },
    "id": "U8M1nH2IzI7x",
    "outputId": "11e6f56d-9200-4448-b8af-17d357453d93"
   },
   "outputs": [
    {
     "name": "stderr",
     "output_type": "stream",
     "text": [
      "Using TensorFlow backend.\n"
     ]
    },
    {
     "data": {
      "text/html": [
       "<p style=\"color: red;\">\n",
       "The default version of TensorFlow in Colab will soon switch to TensorFlow 2.x.<br>\n",
       "We recommend you <a href=\"https://www.tensorflow.org/guide/migrate\" target=\"_blank\">upgrade</a> now \n",
       "or ensure your notebook will continue to use TensorFlow 1.x via the <code>%tensorflow_version 1.x</code> magic:\n",
       "<a href=\"https://colab.research.google.com/notebooks/tensorflow_version.ipynb\" target=\"_blank\">more info</a>.</p>\n"
      ],
      "text/plain": [
       "<IPython.core.display.HTML object>"
      ]
     },
     "metadata": {
      "tags": []
     },
     "output_type": "display_data"
    },
    {
     "name": "stdout",
     "output_type": "stream",
     "text": [
      "1.15.0\n"
     ]
    }
   ],
   "source": [
    "from keras import backend as K\n",
    "import numpy as np\n",
    "\n",
    "%tensorflow_version 1.x\n",
    "import tensorflow as tf\n",
    "print(tf.__version__)"
   ]
  },
  {
   "cell_type": "code",
   "execution_count": 0,
   "metadata": {
    "colab": {},
    "colab_type": "code",
    "id": "_0kGFxT7sp8X"
   },
   "outputs": [],
   "source": [
    "def cross_entropy(predictions, targets):\n",
    "    loss = - np.mean(np.log(predictions) * targets) \n",
    "    return loss"
   ]
  },
  {
   "cell_type": "markdown",
   "metadata": {
    "colab_type": "text",
    "id": "kPg42BLmkjmD"
   },
   "source": [
    "## Softmax function"
   ]
  },
  {
   "cell_type": "code",
   "execution_count": 0,
   "metadata": {
    "colab": {},
    "colab_type": "code",
    "id": "AX3m7eJhabAR"
   },
   "outputs": [],
   "source": [
    "def softmax(x):\n",
    "    return np.exp(x) / np.sum(np.exp(x), axis=0)"
   ]
  },
  {
   "cell_type": "markdown",
   "metadata": {
    "colab_type": "text",
    "id": "2-PukNk3c7S3"
   },
   "source": [
    "## Example 1"
   ]
  },
  {
   "cell_type": "code",
   "execution_count": 0,
   "metadata": {
    "colab": {},
    "colab_type": "code",
    "id": "ijFrRIujaa9u"
   },
   "outputs": [],
   "source": [
    "data = [1,2,5]\n",
    "prediction = softmax(data)\n",
    "correct = [0,0, 1]"
   ]
  },
  {
   "cell_type": "code",
   "execution_count": 6,
   "metadata": {
    "colab": {
     "base_uri": "https://localhost:8080/",
     "height": 34
    },
    "colab_type": "code",
    "executionInfo": {
     "elapsed": 1885,
     "status": "ok",
     "timestamp": 1575744420063,
     "user": {
      "displayName": "Siyabonga Mthiyane",
      "photoUrl": "https://lh3.googleusercontent.com/a-/AAuE7mA9NDszfcyeI69O2XD_B3CJLPyby3AQkhN12QYDtw=s64",
      "userId": "11590169425540372627"
     },
     "user_tz": -120
    },
    "id": "a1GBWwhJkl6z",
    "outputId": "d5d9fcf6-0014-4e21-dc06-f1583897fd58"
   },
   "outputs": [
    {
     "data": {
      "text/plain": [
       "0.021961301252476376"
      ]
     },
     "execution_count": 6,
     "metadata": {
      "tags": []
     },
     "output_type": "execute_result"
    }
   ],
   "source": [
    "cross_entropy(prediction, correct)"
   ]
  },
  {
   "cell_type": "markdown",
   "metadata": {
    "colab_type": "text",
    "id": "1_RYfcJvc9hb"
   },
   "source": [
    "## Example 2"
   ]
  },
  {
   "cell_type": "code",
   "execution_count": 0,
   "metadata": {
    "colab": {},
    "colab_type": "code",
    "id": "NlGrNIZBaiIM"
   },
   "outputs": [],
   "source": [
    "data = [5,2,1]\n",
    "prediction = softmax(data)\n",
    "correct = [0,0, 1]"
   ]
  },
  {
   "cell_type": "code",
   "execution_count": 0,
   "metadata": {
    "colab": {
     "base_uri": "https://localhost:8080/",
     "height": 34
    },
    "colab_type": "code",
    "executionInfo": {
     "elapsed": 1032,
     "status": "ok",
     "timestamp": 1571667904649,
     "user": {
      "displayName": "Dr. Emmanuel Dufourq",
      "photoUrl": "",
      "userId": "01909065842932597443"
     },
     "user_tz": -120
    },
    "id": "XghIA4oEaiON",
    "outputId": "2a57e775-9f04-4af7-dda2-86f294951fa5"
   },
   "outputs": [
    {
     "data": {
      "text/plain": [
       "1.3552946345858097"
      ]
     },
     "execution_count": 34,
     "metadata": {
      "tags": []
     },
     "output_type": "execute_result"
    }
   ],
   "source": [
    "cross_entropy(prediction, correct)"
   ]
  },
  {
   "cell_type": "markdown",
   "metadata": {
    "colab_type": "text",
    "id": "f5eU36pkdIW1"
   },
   "source": [
    "## Example 3"
   ]
  },
  {
   "cell_type": "code",
   "execution_count": 0,
   "metadata": {
    "colab": {},
    "colab_type": "code",
    "id": "6MxvUB3san91"
   },
   "outputs": [],
   "source": [
    "data = [-4, 10]\n",
    "prediction = softmax(data)\n",
    "correct = [1, 0]"
   ]
  },
  {
   "cell_type": "code",
   "execution_count": 0,
   "metadata": {
    "colab": {
     "base_uri": "https://localhost:8080/",
     "height": 34
    },
    "colab_type": "code",
    "executionInfo": {
     "elapsed": 3258,
     "status": "ok",
     "timestamp": 1571668121077,
     "user": {
      "displayName": "Dr. Emmanuel Dufourq",
      "photoUrl": "",
      "userId": "01909065842932597443"
     },
     "user_tz": -120
    },
    "id": "1QFPmcyoaiIV",
    "outputId": "9e460845-f408-4c37-b9ce-14a0a74693da"
   },
   "outputs": [
    {
     "data": {
      "text/plain": [
       "7.000000415764187"
      ]
     },
     "execution_count": 40,
     "metadata": {
      "tags": []
     },
     "output_type": "execute_result"
    }
   ],
   "source": [
    "cross_entropy(prediction, correct)"
   ]
  },
  {
   "cell_type": "markdown",
   "metadata": {
    "colab_type": "text",
    "id": "eHsbgAHeuHzP"
   },
   "source": [
    "## Example 4"
   ]
  },
  {
   "cell_type": "code",
   "execution_count": 0,
   "metadata": {
    "colab": {},
    "colab_type": "code",
    "id": "BUHg2yZ5uHzT"
   },
   "outputs": [],
   "source": [
    "data = [-4, 10]\n",
    "prediction = softmax(data)\n",
    "correct = [0, 1]"
   ]
  },
  {
   "cell_type": "code",
   "execution_count": 0,
   "metadata": {
    "colab": {
     "base_uri": "https://localhost:8080/",
     "height": 34
    },
    "colab_type": "code",
    "executionInfo": {
     "elapsed": 3346,
     "status": "ok",
     "timestamp": 1571668147307,
     "user": {
      "displayName": "Dr. Emmanuel Dufourq",
      "photoUrl": "",
      "userId": "01909065842932597443"
     },
     "user_tz": -120
    },
    "id": "6L5W4lwjuHzX",
    "outputId": "8b74da91-d409-4b18-e01a-a3bcbe25fe40"
   },
   "outputs": [
    {
     "data": {
      "text/plain": [
       "4.1576418668784597e-07"
      ]
     },
     "execution_count": 42,
     "metadata": {
      "tags": []
     },
     "output_type": "execute_result"
    }
   ],
   "source": [
    "cross_entropy(prediction, correct)"
   ]
  },
  {
   "cell_type": "markdown",
   "metadata": {
    "colab_type": "text",
    "id": "3femCsbOdZQr"
   },
   "source": [
    "## Task: make up some data along with the correct labels and obtain the loss."
   ]
  },
  {
   "cell_type": "code",
   "execution_count": 0,
   "metadata": {
    "colab": {},
    "colab_type": "code",
    "id": "9WtU4JLkddHN"
   },
   "outputs": [],
   "source": [
    "data = # Your code here\n",
    "prediction = softmax(data)\n",
    "correct = # Your code here"
   ]
  },
  {
   "cell_type": "code",
   "execution_count": 0,
   "metadata": {
    "colab": {},
    "colab_type": "code",
    "id": "TjFIrurilOwr"
   },
   "outputs": [],
   "source": [
    "cross_entropy(prediction, correct)"
   ]
  },
  {
   "cell_type": "markdown",
   "metadata": {
    "colab_type": "text",
    "id": "3ExhTxIadiHN"
   },
   "source": [
    "## Task: make up some data along with the correct labels and obtain the loss."
   ]
  },
  {
   "cell_type": "code",
   "execution_count": 0,
   "metadata": {
    "colab": {
     "base_uri": "https://localhost:8080/",
     "height": 130
    },
    "colab_type": "code",
    "executionInfo": {
     "elapsed": 841,
     "status": "error",
     "timestamp": 1571668210783,
     "user": {
      "displayName": "Dr. Emmanuel Dufourq",
      "photoUrl": "",
      "userId": "01909065842932597443"
     },
     "user_tz": -120
    },
    "id": "Sh19UUGJdiHP",
    "outputId": "7eec486c-eee0-4cd0-d08b-f2acc2f24be9"
   },
   "outputs": [
    {
     "ename": "SyntaxError",
     "evalue": "ignored",
     "output_type": "error",
     "traceback": [
      "\u001b[0;36m  File \u001b[0;32m\"<ipython-input-43-9401a3c0c863>\"\u001b[0;36m, line \u001b[0;32m1\u001b[0m\n\u001b[0;31m    data = # Your code here\u001b[0m\n\u001b[0m                           ^\u001b[0m\n\u001b[0;31mSyntaxError\u001b[0m\u001b[0;31m:\u001b[0m invalid syntax\n"
     ]
    }
   ],
   "source": [
    "data = # Your code here\n",
    "prediction = softmax(data)\n",
    "correct = # Your code here"
   ]
  },
  {
   "cell_type": "code",
   "execution_count": 0,
   "metadata": {
    "colab": {},
    "colab_type": "code",
    "id": "PfbenNyHlPct"
   },
   "outputs": [],
   "source": [
    "cross_entropy(prediction, correct)"
   ]
  }
 ],
 "metadata": {
  "colab": {
   "collapsed_sections": [],
   "name": "Copy of Categorical Cross Entropy.ipynb",
   "provenance": [
    {
     "file_id": "1w6KnJvzd9hLuZwNzWgkSjnwdQsWpx30-",
     "timestamp": 1575741647119
    },
    {
     "file_id": "1s7r3NO6zy6BjsXO3M2j-jnyOyVzA5f9M",
     "timestamp": 1571661857109
    },
    {
     "file_id": "1EJPRv1eYAHD-knA0pxGz4sOwP-DPpjGx",
     "timestamp": 1568800993372
    },
    {
     "file_id": "1-8JTpCxEW9IbFzbV7czce2y6QuGqhzmN",
     "timestamp": 1568800267409
    }
   ]
  },
  "kernelspec": {
   "display_name": "Python 3",
   "language": "python",
   "name": "python3"
  },
  "language_info": {
   "codemirror_mode": {
    "name": "ipython",
    "version": 3
   },
   "file_extension": ".py",
   "mimetype": "text/x-python",
   "name": "python",
   "nbconvert_exporter": "python",
   "pygments_lexer": "ipython3",
   "version": "3.8.5"
  }
 },
 "nbformat": 4,
 "nbformat_minor": 1
}
