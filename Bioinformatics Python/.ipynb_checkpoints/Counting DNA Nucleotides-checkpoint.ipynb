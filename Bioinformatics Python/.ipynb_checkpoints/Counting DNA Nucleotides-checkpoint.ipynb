{
 "cells": [
  {
   "cell_type": "markdown",
   "metadata": {},
   "source": [
    "# Problem\n",
    "A string is simply an ordered collection of symbols selected from some alphabet and formed into a word; the length of a string is the number of symbols that it contains.\n",
    "\n",
    "An example of a length 21 DNA string (whose alphabet contains the symbols 'A', 'C', 'G', and 'T') is \"ATGCTTCAGAAAGGTCTTACG.\"\n",
    "\n",
    "Given: A DNA string s of length at most 1000 nt.\n",
    "\n",
    "Return: Four integers (separated by spaces) counting the respective number of times that the symbols 'A', 'C', 'G', and 'T' occur in s.\n",
    "\n",
    "# Sample Dataset\n",
    "AGCTTTTCATTCTGACTGCAACGGGCAATATGTCTCTGTGTGGATTAAAAAAAGAGTGTCTGATAGCAGC\n",
    "# Sample Output\n",
    "20 12 17 21"
   ]
  },
  {
   "cell_type": "code",
   "execution_count": 71,
   "metadata": {},
   "outputs": [],
   "source": [
    "# Uploadig data set\n",
    "file = open('C:/Users/tanjo/Desktop/Bioinformatics Python/rosalind_dna.txt')\n",
    "data = file.read()\n",
    "file.close()"
   ]
  },
  {
   "cell_type": "code",
   "execution_count": 72,
   "metadata": {},
   "outputs": [
    {
     "name": "stdout",
     "output_type": "stream",
     "text": [
      "{'A': 244, 'C': 239, 'G': 212, 'T': 227}\n"
     ]
    }
   ],
   "source": [
    "# Counting algorithm: Linear Complexity O(N)\n",
    "A = 0\n",
    "C = 0\n",
    "G = 0\n",
    "T = 0\n",
    "\n",
    "for i in range(1,len(data)):\n",
    "        if data[i] == 'A':\n",
    "            A+=1\n",
    "        if data[i] == 'C':\n",
    "            C+=1\n",
    "        if data[i] == 'G':\n",
    "            G+=1\n",
    "        if data[i] == 'T':\n",
    "            T+=1\n",
    "            \n",
    "print({'A':A,'C':C, 'G':G, 'T':T })"
   ]
  },
  {
   "cell_type": "code",
   "execution_count": 74,
   "metadata": {},
   "outputs": [
    {
     "name": "stdout",
     "output_type": "stream",
     "text": [
      "244 239 212 227\n"
     ]
    }
   ],
   "source": [
    "#Out Put\n",
    "print(A, C, G, T)"
   ]
  },
  {
   "cell_type": "code",
   "execution_count": null,
   "metadata": {},
   "outputs": [],
   "source": []
  }
 ],
 "metadata": {
  "kernelspec": {
   "display_name": "Python 3",
   "language": "python",
   "name": "python3"
  },
  "language_info": {
   "codemirror_mode": {
    "name": "ipython",
    "version": 3
   },
   "file_extension": ".py",
   "mimetype": "text/x-python",
   "name": "python",
   "nbconvert_exporter": "python",
   "pygments_lexer": "ipython3",
   "version": "3.8.5"
  }
 },
 "nbformat": 4,
 "nbformat_minor": 4
}
