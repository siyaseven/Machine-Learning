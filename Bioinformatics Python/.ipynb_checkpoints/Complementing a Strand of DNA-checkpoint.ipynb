{
 "cells": [
  {
   "cell_type": "markdown",
   "metadata": {},
   "source": [
    "Problem\n",
    "In DNA strings, symbols 'A' and 'T' are complements of each other, as are 'C' and 'G'.\n",
    "\n",
    "The reverse complement of a DNA string s is the string sc formed by reversing the symbols of s, then taking the complement of each symbol (e.g., the reverse complement of \"GTCA\" is \"TGAC\").\n",
    "\n",
    "Given: A DNA string s of length at most 1000 bp.\n",
    "\n",
    "Return: The reverse complement sc of s.\n",
    "\n",
    "# Sample Dataset\n",
    "AAAACCCGGT\n",
    "# Sample Output\n",
    "ACCGGGTTTT"
   ]
  },
  {
   "cell_type": "code",
   "execution_count": 120,
   "metadata": {},
   "outputs": [],
   "source": [
    "#Data uploading from local machine\n",
    "file = open('C:/Users/tanjo/Desktop/Bioinformatics Python/rosalind_revc.txt')\n",
    "data = file.read()\n",
    "file.close()"
   ]
  },
  {
   "cell_type": "code",
   "execution_count": 121,
   "metadata": {},
   "outputs": [],
   "source": [
    "#Function that reverse a DNA string and return reverse compliment of the DNA string\n",
    "def reverse_complement(data):\n",
    "    reverse_comp = data[::-1]\n",
    "    reverse_comp = reverse_comp.replace('T','t')\n",
    "    reverse_comp = reverse_comp.replace('C','c')\n",
    "    for i in range(0,len(data)):\n",
    "        if reverse_comp[i] == 'A':\n",
    "            reverse_comp = reverse_comp.replace('A','T')\n",
    "        if reverse_comp[i] == 't':\n",
    "            reverse_comp = reverse_comp.replace('t','a')\n",
    "        if reverse_comp[i] == 'c':\n",
    "            reverse_comp = reverse_comp.replace('c','g')\n",
    "        if reverse_comp[i] == 'G':\n",
    "            reverse_comp = reverse_comp.replace('G','C')\n",
    "    reverse_comp = reverse_comp.upper() \n",
    "    return reverse_comp"
   ]
  },
  {
   "cell_type": "code",
   "execution_count": 122,
   "metadata": {},
   "outputs": [
    {
     "data": {
      "text/plain": [
       "'TGGCCCAAAA'"
      ]
     },
     "execution_count": 122,
     "metadata": {},
     "output_type": "execute_result"
    }
   ],
   "source": [
    "#input example\n",
    "dna = 'AAAACCCGGT'\n",
    "dna[::-1]"
   ]
  },
  {
   "cell_type": "code",
   "execution_count": 125,
   "metadata": {},
   "outputs": [
    {
     "data": {
      "text/plain": [
       "'ACCGGGTTTT'"
      ]
     },
     "execution_count": 125,
     "metadata": {},
     "output_type": "execute_result"
    }
   ],
   "source": [
    "#output example\n",
    "reverse_complement(dna)"
   ]
  },
  {
   "cell_type": "code",
   "execution_count": 126,
   "metadata": {},
   "outputs": [
    {
     "data": {
      "text/plain": [
       "'\\nCTTCTAGCTACCGCAACACCTTCAGACTTTGTACTGTCAAGGCTTGGCTCACACAAGATGCATTAGAGACTCGTCTTGTTAGAGATCCCCCTACAACTTGCGCGGCAGCGCCACCGGGTAGCTATTCAATGTGCCCCTCCCTAAAGCCCGCGTCAATCCACCATGCCATCCGGGACAGGTGCCCAAATACAAGTGTACTTGCTCACGGCAATGGGAGACTGGCTTACATTGCGCCAAAAGAGTGAGATCTGCTTTAGGCATCTGTCCGCGATAACGAGGGGTTTCTCCCGCGCCTAGGATTGGTGGCCACCGACCCACATCAATGAGTTCGCGTTGACGCCCCACTACGTCTTCCTGGAGACTCTCCGAGCCAGCGTGCCTTCCGATGACACTAGTGTTCTTGCCTTCGGGATCTGCCGGGATGGAGCTCTCAAATCTTTGTACCGCTTGCTGCTACTTACCGTCTGTCGCACTGGCCTGTAAACTGTGGTGGAGTGCCGCTCGTGAGCGTCTGCATACCTTGTGGCCTAGGGTTGTGGCTTAAGAGGACATAAAAAAAGCCGCGCATAAGATTAGTACTCGACTTAAAACTGGATTGGAAGTAGGCTAGTGGCAGATCTGTAACGTCCTCCCAAGGAGAGATGGCCTATCGGTTTCGGCCTTCCGCGCGCTCCGAATCGTGAAGTCAATCGGGGTACCCAGCGGGGAAATTTTCTCCGCTGAACTACTGGTTCAGACGTATCCGATTCCTTGCGGCTACCTTGTGGACTTATCGGTGTTCACTAGGCTGTCTGGGTCTGCCTCAGAATGTGCTGCTCATTGGCAACGACACGCTTAGGTACGTGACTTTGGCCGC'"
      ]
     },
     "execution_count": 126,
     "metadata": {},
     "output_type": "execute_result"
    }
   ],
   "source": [
    "#Solution to a problem above\n",
    "reverse_complement(data)"
   ]
  }
 ],
 "metadata": {
  "kernelspec": {
   "display_name": "Python 3",
   "language": "python",
   "name": "python3"
  },
  "language_info": {
   "codemirror_mode": {
    "name": "ipython",
    "version": 3
   },
   "file_extension": ".py",
   "mimetype": "text/x-python",
   "name": "python",
   "nbconvert_exporter": "python",
   "pygments_lexer": "ipython3",
   "version": "3.8.5"
  }
 },
 "nbformat": 4,
 "nbformat_minor": 4
}
