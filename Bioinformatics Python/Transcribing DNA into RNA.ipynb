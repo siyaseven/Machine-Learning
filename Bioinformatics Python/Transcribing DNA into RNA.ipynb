{
 "cells": [
  {
   "cell_type": "markdown",
   "metadata": {},
   "source": [
    "# Problem\n",
    "An RNA string is a string formed from the alphabet containing 'A', 'C', 'G', and 'U'.\n",
    "\n",
    "Given a DNA string t corresponding to a coding strand, its transcribed RNA string u is formed by replacing all occurrences of 'T' in t with 'U' in u.\n",
    "\n",
    "Given: A DNA string t having length at most 1000 nt.\n",
    "\n",
    "Return: The transcribed RNA string of t.\n",
    "\n",
    "# Sample Dataset\n",
    "GATGGAACTTGACTACGTAAATT\n",
    "# Sample Output\n",
    "GAUGGAACUUGACUACGUAAAUU"
   ]
  },
  {
   "cell_type": "code",
   "execution_count": 16,
   "metadata": {},
   "outputs": [],
   "source": [
    "file = open('C:/Users/tanjo/Desktop/Bioinformatics Python/rosalind_rna.txt')\n",
    "data = file.read()\n",
    "file.close()"
   ]
  },
  {
   "cell_type": "code",
   "execution_count": 17,
   "metadata": {},
   "outputs": [
    {
     "name": "stdout",
     "output_type": "stream",
     "text": [
      "TATATCACGCCACTCTCGATAACCGACTTGGATAAGCTCTTGTCGCCGTTTGTAACAGGAAGTTAAGGGCAGCCCCATTGCCAGGCCTTGCCTCAAGATCCAACTTTATTAACCCCTACCCACGATTTTTCAATTCTGGACAGATATCCCGGAAAGGTTAAGGCCATTCTTATGTGATACGGTTGCTGCGGGTTCTGGCGTTATAACCAGTACTAGGTGAGTTGCCGGTCCCTATCCTCTGCATAGCAAGAGCCCTATCTGGGATGAACAAATAGCAATTCACATGACGGGGGCTAGGAGTAAGGGAACGAATCGATCTGACAACTACGTTCGGTAACCGCCGTCTGCTTGTGTGCAATCTATCCGGTATCGTTACAGATGCTTCTGTTAGTATACACAGAATAGAGAGCCGCCGGGCCAATATGTTGAGCTCAGCCAGCTGCCGTTCTATTCGCGAGCACTTCTCGTGAACCCGGCTGGTGCCTCCAGGACGCCTATAACTACTTGAGTATGTCAGCCGATGGTCGTATACGCGCCTCAAATCGACGGACCCTAGAGCGACGAGTGGCGTTACTCCCTAAATGGGGGGGAATTCCCATAGCTCAGGTCCGGGCCGGTTGCAACCTAAGGTCAGGAATTCGATTCGAAATGTCCCCTATCACCGCCACGTCACTCTTACACGCATGTATACTCCAACTTTACTTTGTGCCCCTCCTAACATTATTTTTCAAAAGAGCAGGGCTCACGCAGGCGCACCCGATACGTGTTCGGACAGGGCTAGCGGCTTCCCATTACCTTCCACTGGCCGTAGGCTCTAACTATTTGTCTTACAGGAACTATGTTCTCAGTCCACTGGCTATCGCGCATTGGGTAATGACAGGATTTTTAGCCGTTCCCATAGCGAGCTTGGTTCGACACTTTGATCAACGTATTCGTCCGAACACTAATGTGCAAAAGAGTG\n",
      "\n"
     ]
    }
   ],
   "source": [
    "print(data)"
   ]
  },
  {
   "cell_type": "code",
   "execution_count": 18,
   "metadata": {},
   "outputs": [
    {
     "name": "stdout",
     "output_type": "stream",
     "text": [
      "UAUAUCACGCCACUCUCGAUAACCGACUUGGAUAAGCUCUUGUCGCCGUUUGUAACAGGAAGUUAAGGGCAGCCCCAUUGCCAGGCCUUGCCUCAAGAUCCAACUUUAUUAACCCCUACCCACGAUUUUUCAAUUCUGGACAGAUAUCCCGGAAAGGUUAAGGCCAUUCUUAUGUGAUACGGUUGCUGCGGGUUCUGGCGUUAUAACCAGUACUAGGUGAGUUGCCGGUCCCUAUCCUCUGCAUAGCAAGAGCCCUAUCUGGGAUGAACAAAUAGCAAUUCACAUGACGGGGGCUAGGAGUAAGGGAACGAAUCGAUCUGACAACUACGUUCGGUAACCGCCGUCUGCUUGUGUGCAAUCUAUCCGGUAUCGUUACAGAUGCUUCUGUUAGUAUACACAGAAUAGAGAGCCGCCGGGCCAAUAUGUUGAGCUCAGCCAGCUGCCGUUCUAUUCGCGAGCACUUCUCGUGAACCCGGCUGGUGCCUCCAGGACGCCUAUAACUACUUGAGUAUGUCAGCCGAUGGUCGUAUACGCGCCUCAAAUCGACGGACCCUAGAGCGACGAGUGGCGUUACUCCCUAAAUGGGGGGGAAUUCCCAUAGCUCAGGUCCGGGCCGGUUGCAACCUAAGGUCAGGAAUUCGAUUCGAAAUGUCCCCUAUCACCGCCACGUCACUCUUACACGCAUGUAUACUCCAACUUUACUUUGUGCCCCUCCUAACAUUAUUUUUCAAAAGAGCAGGGCUCACGCAGGCGCACCCGAUACGUGUUCGGACAGGGCUAGCGGCUUCCCAUUACCUUCCACUGGCCGUAGGCUCUAACUAUUUGUCUUACAGGAACUAUGUUCUCAGUCCACUGGCUAUCGCGCAUUGGGUAAUGACAGGAUUUUUAGCCGUUCCCAUAGCGAGCUUGGUUCGACACUUUGAUCAACGUAUUCGUCCGAACACUAAUGUGCAAAAGAGUG\n",
      "\n"
     ]
    }
   ],
   "source": [
    "for i in range(1,len(data)):\n",
    "    if data[i] == 'T':\n",
    "       data = data.replace('T','U')\n",
    "print(data)"
   ]
  },
  {
   "cell_type": "code",
   "execution_count": null,
   "metadata": {},
   "outputs": [],
   "source": []
  },
  {
   "cell_type": "code",
   "execution_count": null,
   "metadata": {},
   "outputs": [],
   "source": []
  }
 ],
 "metadata": {
  "kernelspec": {
   "display_name": "Python 3",
   "language": "python",
   "name": "python3"
  },
  "language_info": {
   "codemirror_mode": {
    "name": "ipython",
    "version": 3
   },
   "file_extension": ".py",
   "mimetype": "text/x-python",
   "name": "python",
   "nbconvert_exporter": "python",
   "pygments_lexer": "ipython3",
   "version": "3.8.5"
  }
 },
 "nbformat": 4,
 "nbformat_minor": 4
}
